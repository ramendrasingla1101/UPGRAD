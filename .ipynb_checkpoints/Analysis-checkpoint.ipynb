{
 "cells": [
  {
   "cell_type": "markdown",
   "metadata": {},
   "source": [
    "## INPUT VARIABLES:\n",
    "\n",
    "\n",
    "\n",
    "# bank client data:\n",
    "1 - age (numeric)\n",
    "\n",
    "2 - job : type of job (categorical: \"admin.\",\"bluecollar\",\"entrepreneur\",\"housemaid\",\"management\",\"retired\",\"selfemployed\",\"services\",\"student\",\"technician\",\"unemployed\",\"unknown\")\n",
    "\n",
    "3 - marital : marital status (categorical:\"divorced\",\"married\",\"single\",\"unknown\"; note: \"divorced\" means divorced or widowed)\n",
    "\n",
    "4 - education (categorical: \"basic.4y\",\"basic.6y\",\"basic.9y\",\"high.school\",\"illiterate\",\"professional.course\",\"university.degree\",\"unknown\")\n",
    "\n",
    "5 - default: has credit in default? (categorical: \"no\",\"yes\",\"unknown\")\n",
    "\n",
    "6 - housing: has housing loan? (categorical: \"no\",\"yes\",\"unknown\")\n",
    "\n",
    "7 - loan: has personal loan? (categorical: \"no\",\"yes\",\"unknown\")\n",
    "  \n",
    "  \n",
    "  \n",
    "  \n",
    "# related with the last contact of the current campaign:\n",
    "8 - contact: contact communication type (categorical:\"cellular\",\"telephone\") \n",
    "\n",
    "9 - month: last contact month of year (categorical: \"jan\", \"feb\", \"mar\", ..., \"nov\", \"dec\")\n",
    "\n",
    "10 - day_of_week: last contact day of the week (categorical: \"mon\",\"tue\",\"wed\",\"thu\",\"fri\")\n",
    "\n",
    "11 - duration: last contact duration, in seconds (numeric). \n",
    "\n",
    "\n",
    "Important note:  this attribute highly affects the output target (e.g., if duration=0 then y=\"no\"). Yet, the duration is not known before a call is performed. Also, after the end of the call y is obviously known. Thus, this input should only be included for benchmark purposes and should be discarded if the intention is to have a realistic predictive model.\n",
    "\n",
    "\n",
    "\n",
    "\n",
    "# other attributes:\n",
    "\n",
    "12 - campaign: number of contacts performed during this campaign and for this client (numeric, includes last contact)\n",
    "\n",
    "13 - pdays: number of days that passed by after the client was last contacted from a previous campaign (numeric; 999 means client was not previously contacted)\n",
    "\n",
    "14 - previous: number of contacts performed before this campaign and for this client (numeric)\n",
    "\n",
    "15 - poutcome: outcome of the previous marketing campaign (categorical: \"failure\",\"nonexistent\",\"success\")\n",
    " \n",
    " \n",
    " \n",
    "\n",
    "# social and economic context attributes\n",
    "\n",
    "16 - emp.var.rate: employment variation rate - quarterly indicator (numeric)\n",
    "\n",
    "17 - cons.price.idx: consumer price index - monthly indicator (numeric)     \n",
    "\n",
    "18 - cons.conf.idx: consumer confidence index - monthly indicator (numeric)     \n",
    "\n",
    "19 - euribor3m: euribor 3 month rate - daily indicator (numeric)\n",
    "\n",
    "20 - nr.employed: number of employees - quarterly indicator (numeric)\n",
    "\n",
    "# Output variable (desired target):\n",
    "\n",
    "21 - y - has the client subscribed a term deposit? (binary: \"yes\",\"no\")"
   ]
  },
  {
   "cell_type": "code",
   "execution_count": 82,
   "metadata": {},
   "outputs": [],
   "source": [
    "import pandas as pd\n",
    "from sklearn.feature_extraction import DictVectorizer\n",
    "import numpy as np\n",
    "from sklearn.ensemble import RandomForestClassifier\n",
    "import matplotlib.pyplot as plt"
   ]
  },
  {
   "cell_type": "code",
   "execution_count": 83,
   "metadata": {},
   "outputs": [],
   "source": [
    "data = pd.read_csv(\"./datasets/bank-additional/bank-additional/bank-additional-full.csv\",sep=';')"
   ]
  },
  {
   "cell_type": "code",
   "execution_count": 84,
   "metadata": {},
   "outputs": [
    {
     "data": {
      "text/html": [
       "<div>\n",
       "<style scoped>\n",
       "    .dataframe tbody tr th:only-of-type {\n",
       "        vertical-align: middle;\n",
       "    }\n",
       "\n",
       "    .dataframe tbody tr th {\n",
       "        vertical-align: top;\n",
       "    }\n",
       "\n",
       "    .dataframe thead th {\n",
       "        text-align: right;\n",
       "    }\n",
       "</style>\n",
       "<table border=\"1\" class=\"dataframe\">\n",
       "  <thead>\n",
       "    <tr style=\"text-align: right;\">\n",
       "      <th></th>\n",
       "      <th>age</th>\n",
       "      <th>job</th>\n",
       "      <th>marital</th>\n",
       "      <th>education</th>\n",
       "      <th>default</th>\n",
       "      <th>housing</th>\n",
       "      <th>loan</th>\n",
       "      <th>contact</th>\n",
       "      <th>month</th>\n",
       "      <th>day_of_week</th>\n",
       "      <th>...</th>\n",
       "      <th>campaign</th>\n",
       "      <th>pdays</th>\n",
       "      <th>previous</th>\n",
       "      <th>poutcome</th>\n",
       "      <th>emp.var.rate</th>\n",
       "      <th>cons.price.idx</th>\n",
       "      <th>cons.conf.idx</th>\n",
       "      <th>euribor3m</th>\n",
       "      <th>nr.employed</th>\n",
       "      <th>y</th>\n",
       "    </tr>\n",
       "  </thead>\n",
       "  <tbody>\n",
       "    <tr>\n",
       "      <th>0</th>\n",
       "      <td>56</td>\n",
       "      <td>housemaid</td>\n",
       "      <td>married</td>\n",
       "      <td>basic.4y</td>\n",
       "      <td>no</td>\n",
       "      <td>no</td>\n",
       "      <td>no</td>\n",
       "      <td>telephone</td>\n",
       "      <td>may</td>\n",
       "      <td>mon</td>\n",
       "      <td>...</td>\n",
       "      <td>1</td>\n",
       "      <td>999</td>\n",
       "      <td>0</td>\n",
       "      <td>nonexistent</td>\n",
       "      <td>1.1</td>\n",
       "      <td>93.994</td>\n",
       "      <td>-36.4</td>\n",
       "      <td>4.857</td>\n",
       "      <td>5191.0</td>\n",
       "      <td>no</td>\n",
       "    </tr>\n",
       "    <tr>\n",
       "      <th>1</th>\n",
       "      <td>57</td>\n",
       "      <td>services</td>\n",
       "      <td>married</td>\n",
       "      <td>high.school</td>\n",
       "      <td>unknown</td>\n",
       "      <td>no</td>\n",
       "      <td>no</td>\n",
       "      <td>telephone</td>\n",
       "      <td>may</td>\n",
       "      <td>mon</td>\n",
       "      <td>...</td>\n",
       "      <td>1</td>\n",
       "      <td>999</td>\n",
       "      <td>0</td>\n",
       "      <td>nonexistent</td>\n",
       "      <td>1.1</td>\n",
       "      <td>93.994</td>\n",
       "      <td>-36.4</td>\n",
       "      <td>4.857</td>\n",
       "      <td>5191.0</td>\n",
       "      <td>no</td>\n",
       "    </tr>\n",
       "    <tr>\n",
       "      <th>2</th>\n",
       "      <td>37</td>\n",
       "      <td>services</td>\n",
       "      <td>married</td>\n",
       "      <td>high.school</td>\n",
       "      <td>no</td>\n",
       "      <td>yes</td>\n",
       "      <td>no</td>\n",
       "      <td>telephone</td>\n",
       "      <td>may</td>\n",
       "      <td>mon</td>\n",
       "      <td>...</td>\n",
       "      <td>1</td>\n",
       "      <td>999</td>\n",
       "      <td>0</td>\n",
       "      <td>nonexistent</td>\n",
       "      <td>1.1</td>\n",
       "      <td>93.994</td>\n",
       "      <td>-36.4</td>\n",
       "      <td>4.857</td>\n",
       "      <td>5191.0</td>\n",
       "      <td>no</td>\n",
       "    </tr>\n",
       "    <tr>\n",
       "      <th>3</th>\n",
       "      <td>40</td>\n",
       "      <td>admin.</td>\n",
       "      <td>married</td>\n",
       "      <td>basic.6y</td>\n",
       "      <td>no</td>\n",
       "      <td>no</td>\n",
       "      <td>no</td>\n",
       "      <td>telephone</td>\n",
       "      <td>may</td>\n",
       "      <td>mon</td>\n",
       "      <td>...</td>\n",
       "      <td>1</td>\n",
       "      <td>999</td>\n",
       "      <td>0</td>\n",
       "      <td>nonexistent</td>\n",
       "      <td>1.1</td>\n",
       "      <td>93.994</td>\n",
       "      <td>-36.4</td>\n",
       "      <td>4.857</td>\n",
       "      <td>5191.0</td>\n",
       "      <td>no</td>\n",
       "    </tr>\n",
       "    <tr>\n",
       "      <th>4</th>\n",
       "      <td>56</td>\n",
       "      <td>services</td>\n",
       "      <td>married</td>\n",
       "      <td>high.school</td>\n",
       "      <td>no</td>\n",
       "      <td>no</td>\n",
       "      <td>yes</td>\n",
       "      <td>telephone</td>\n",
       "      <td>may</td>\n",
       "      <td>mon</td>\n",
       "      <td>...</td>\n",
       "      <td>1</td>\n",
       "      <td>999</td>\n",
       "      <td>0</td>\n",
       "      <td>nonexistent</td>\n",
       "      <td>1.1</td>\n",
       "      <td>93.994</td>\n",
       "      <td>-36.4</td>\n",
       "      <td>4.857</td>\n",
       "      <td>5191.0</td>\n",
       "      <td>no</td>\n",
       "    </tr>\n",
       "  </tbody>\n",
       "</table>\n",
       "<p>5 rows × 21 columns</p>\n",
       "</div>"
      ],
      "text/plain": [
       "   age        job  marital    education  default housing loan    contact  \\\n",
       "0   56  housemaid  married     basic.4y       no      no   no  telephone   \n",
       "1   57   services  married  high.school  unknown      no   no  telephone   \n",
       "2   37   services  married  high.school       no     yes   no  telephone   \n",
       "3   40     admin.  married     basic.6y       no      no   no  telephone   \n",
       "4   56   services  married  high.school       no      no  yes  telephone   \n",
       "\n",
       "  month day_of_week ...  campaign  pdays  previous     poutcome emp.var.rate  \\\n",
       "0   may         mon ...         1    999         0  nonexistent          1.1   \n",
       "1   may         mon ...         1    999         0  nonexistent          1.1   \n",
       "2   may         mon ...         1    999         0  nonexistent          1.1   \n",
       "3   may         mon ...         1    999         0  nonexistent          1.1   \n",
       "4   may         mon ...         1    999         0  nonexistent          1.1   \n",
       "\n",
       "   cons.price.idx  cons.conf.idx  euribor3m  nr.employed   y  \n",
       "0          93.994          -36.4      4.857       5191.0  no  \n",
       "1          93.994          -36.4      4.857       5191.0  no  \n",
       "2          93.994          -36.4      4.857       5191.0  no  \n",
       "3          93.994          -36.4      4.857       5191.0  no  \n",
       "4          93.994          -36.4      4.857       5191.0  no  \n",
       "\n",
       "[5 rows x 21 columns]"
      ]
     },
     "execution_count": 84,
     "metadata": {},
     "output_type": "execute_result"
    }
   ],
   "source": [
    "data.head()"
   ]
  },
  {
   "cell_type": "code",
   "execution_count": 85,
   "metadata": {},
   "outputs": [
    {
     "name": "stdout",
     "output_type": "stream",
     "text": [
      "<class 'pandas.core.frame.DataFrame'>\n",
      "RangeIndex: 41188 entries, 0 to 41187\n",
      "Data columns (total 21 columns):\n",
      "age               41188 non-null int64\n",
      "job               41188 non-null object\n",
      "marital           41188 non-null object\n",
      "education         41188 non-null object\n",
      "default           41188 non-null object\n",
      "housing           41188 non-null object\n",
      "loan              41188 non-null object\n",
      "contact           41188 non-null object\n",
      "month             41188 non-null object\n",
      "day_of_week       41188 non-null object\n",
      "duration          41188 non-null int64\n",
      "campaign          41188 non-null int64\n",
      "pdays             41188 non-null int64\n",
      "previous          41188 non-null int64\n",
      "poutcome          41188 non-null object\n",
      "emp.var.rate      41188 non-null float64\n",
      "cons.price.idx    41188 non-null float64\n",
      "cons.conf.idx     41188 non-null float64\n",
      "euribor3m         41188 non-null float64\n",
      "nr.employed       41188 non-null float64\n",
      "y                 41188 non-null object\n",
      "dtypes: float64(5), int64(5), object(11)\n",
      "memory usage: 6.6+ MB\n"
     ]
    }
   ],
   "source": [
    "data.info()"
   ]
  },
  {
   "cell_type": "markdown",
   "metadata": {},
   "source": [
    "## LABEL ENCODING"
   ]
  },
  {
   "cell_type": "code",
   "execution_count": 86,
   "metadata": {},
   "outputs": [],
   "source": [
    "from sklearn import preprocessing\n",
    "classes = ['y','job','marital','education','default','housing','loan','contact','month','day_of_week','poutcome']\n",
    "le = [preprocessing.LabelEncoder() for ix in range(11)]\n",
    "for ix in range(11):\n",
    "    le[ix].fit_transform(data[classes[ix]])\n",
    "    data[classes[ix]] = le[ix].transform(data[classes[ix]])\n",
    "data.head()\n",
    "datanp = np.array(data)"
   ]
  },
  {
   "cell_type": "code",
   "execution_count": 106,
   "metadata": {},
   "outputs": [
    {
     "name": "stderr",
     "output_type": "stream",
     "text": [
      "/home/ramendra/.local/lib/python3.6/site-packages/sklearn/ensemble/forest.py:246: FutureWarning: The default value of n_estimators will change from 10 in version 0.20 to 100 in 0.22.\n",
      "  \"10 in version 0.20 to 100 in 0.22.\", FutureWarning)\n"
     ]
    },
    {
     "name": "stdout",
     "output_type": "stream",
     "text": [
      "age \t 0.09383562253501164\n",
      "job \t 0.04857870269274701\n",
      "marital \t 0.02279157483208689\n",
      "education \t 0.042898886773005726\n",
      "default \t 0.00840770093603409\n",
      "housing \t 0.020614661539153083\n",
      "loan \t 0.014679562362724694\n",
      "contact \t 0.009974121553021943\n",
      "month \t 0.017635391253318485\n",
      "day_of_week \t 0.039955776765441285\n",
      "duration \t 0.3274899873020274\n",
      "campaign \t 0.04254929570192763\n",
      "pdays \t 0.013139723841539542\n",
      "previous \t 0.014702334994580249\n",
      "poutcome \t 0.033462857898517565\n",
      "emp.var.rate \t 0.007639125216521513\n",
      "cons.price.idx \t 0.026229328610367243\n",
      "cons.conf.idx \t 0.030724914630240813\n",
      "euribor3m \t 0.10315915701031317\n",
      "nr.employed \t 0.08153127355142006\n"
     ]
    }
   ],
   "source": [
    "X = datanp[:,:-1]\n",
    "y = datanp[:,-1]\n",
    "# Build a forest and compute the feature importances\n",
    "forest = RandomForestClassifier()\n",
    "forest.fit(X, y)\n",
    "importances = forest.feature_importances_\n",
    "for ix in range(20):\n",
    "    print(data.columns[ix],\"\\t\",importances[ix])"
   ]
  },
  {
   "cell_type": "markdown",
   "metadata": {},
   "source": [
    "# OPTIMIZATION BY DURATION"
   ]
  },
  {
   "cell_type": "code",
   "execution_count": 88,
   "metadata": {},
   "outputs": [
    {
     "data": {
      "text/plain": [
       "<matplotlib.collections.PathCollection at 0x7f8356a377f0>"
      ]
     },
     "execution_count": 88,
     "metadata": {},
     "output_type": "execute_result"
    },
    {
     "data": {
      "image/png": "[encoded data removed]",
      "text/plain": [
       "<Figure size 432x288 with 1 Axes>"
      ]
     },
     "metadata": {
      "needs_background": "light"
     },
     "output_type": "display_data"
    }
   ],
   "source": [
    "plt.scatter(data['duration'],data['y'])"
   ]
  },
  {
   "cell_type": "code",
   "execution_count": 89,
   "metadata": {},
   "outputs": [
    {
     "data": {
      "text/plain": [
       "count    41188.000000\n",
       "mean       258.285010\n",
       "std        259.279249\n",
       "min          0.000000\n",
       "25%        102.000000\n",
       "50%        180.000000\n",
       "75%        319.000000\n",
       "max       4918.000000\n",
       "Name: duration, dtype: float64"
      ]
     },
     "execution_count": 89,
     "metadata": {},
     "output_type": "execute_result"
    }
   ],
   "source": [
    "data['duration'].describe()"
   ]
  },
  {
   "cell_type": "code",
   "execution_count": 90,
   "metadata": {},
   "outputs": [
    {
     "data": {
      "text/plain": [
       "array([   0,  100,  200,  300,  400,  500,  600,  700,  800,  900, 1000,\n",
       "       1100, 1200, 1300, 1400, 1500, 1600, 1700, 1800, 1900, 2000, 2100,\n",
       "       2200, 2300, 2400, 2500, 2600, 2700, 2800, 2900, 3000, 3100, 3200,\n",
       "       3300, 3400, 3500, 3600, 3700, 3800, 3900, 4000, 4100, 4200, 4300,\n",
       "       4400, 4500, 4600, 4700, 4800, 4900, 5000])"
      ]
     },
     "execution_count": 90,
     "metadata": {},
     "output_type": "execute_result"
    }
   ],
   "source": [
    "# le[0].transform(['yes'])\n",
    "dut = np.array([ix for ix in range(0,5100,100)])\n",
    "dut"
   ]
  },
  {
   "cell_type": "code",
   "execution_count": 127,
   "metadata": {},
   "outputs": [
    {
     "name": "stdout",
     "output_type": "stream",
     "text": [
      "0.008081332122796341 \t 81.0\n",
      "0.05018416567842866 \t 639.0\n",
      "0.11046358715964617 \t 798.0\n",
      "0.14356080295042203 \t 580.0\n",
      "0.19855999284468495 \t 444.0\n",
      "0.28276757052113927 \t 414.0\n",
      "0.3747164973868455 \t 380.0\n",
      "0.42850959457509735 \t 297.0\n",
      "0.5187985717286284 \t 247.0\n",
      "0.5967394647800677 \t 194.0\n",
      "0.5854241338112306 \t 147.0\n",
      "0.5101509630400833 \t 98.0\n",
      "0.6040268456375839 \t 81.0\n",
      "0.6886517943743938 \t 71.0\n",
      "0.5706134094151213 \t 40.0\n",
      "0.617059891107078 \t 34.0\n",
      "0.7717041800643086 \t 24.0\n",
      "0.5759162303664921 \t 11.0\n",
      "0.5809128630705394 \t 14.0\n",
      "0.4678362573099415 \t 8.0\n",
      "0.794701986754967 \t 12.0\n",
      "0.49180327868852464 \t 3.0\n",
      "0.5882352941176471 \t 3.0\n",
      "0.6451612903225806 \t 2.0\n",
      "0.7042253521126761 \t 5.0\n",
      "0.9090909090909091 \t 1.0\n",
      "0.7843137254901962 \t 4.0\n",
      "0.9090909090909091 \t 1.0\n",
      "0.0 \t 0.0\n",
      "0.9090909090909091 \t 1.0\n",
      "0.6451612903225806 \t 2.0\n",
      "0.9090909090909091 \t 1.0\n",
      "0.0 \t 0.0\n",
      "0.0 \t 0.0\n",
      "0.0 \t 0.0\n",
      "0.0 \t 0.0\n",
      "0.9523809523809523 \t 2.0\n",
      "0.0 \t 0.0\n",
      "0.0 \t 0.0\n",
      "0.0 \t 0.0\n",
      "0.0 \t 0.0\n",
      "0.9090909090909091 \t 1.0\n",
      "0.0 \t 0.0\n",
      "0.0 \t 0.0\n",
      "0.0 \t 0.0\n",
      "0.0 \t 0.0\n",
      "0.0 \t 0.0\n",
      "0.0 \t 0.0\n",
      "0.0 \t 0.0\n",
      "0.0 \t 0.0\n"
     ]
    }
   ],
   "source": [
    "for ix in range((dut.shape[0])-1):\n",
    "    num = float(data.loc[(data['duration']>dut[ix]) & (data['duration']<=dut[ix+1]) & (data['y']==1)].shape[0])\n",
    "    den = float(data.loc[(data['duration']>dut[ix]) & (data['duration']<=dut[ix+1])].shape[0]+0.1)\n",
    "    print(num/den, \"\\t\", num)"
   ]
  },
  {
   "cell_type": "code",
   "execution_count": 92,
   "metadata": {},
   "outputs": [
    {
     "data": {
      "text/plain": [
       "0.005401866099197905"
      ]
     },
     "execution_count": 92,
     "metadata": {},
     "output_type": "execute_result"
    }
   ],
   "source": [
    "num = float(data.loc[(data['duration']<=100) & (data['campaign']>1) & (data['y']==1)].shape[0])\n",
    "den = float(data.loc[(data['duration']<=100) & (data['campaign']>1) ].shape[0])\n",
    "num/den"
   ]
  },
  {
   "cell_type": "code",
   "execution_count": 93,
   "metadata": {},
   "outputs": [],
   "source": [
    "extra_calls = np.sum(data.loc[(data['duration']<=100) & (data['campaign']>1) ]['campaign'])-data.loc[(data['duration']<=100) & (data['campaign']>1) ]['campaign'].shape[0]"
   ]
  },
  {
   "cell_type": "code",
   "execution_count": 94,
   "metadata": {},
   "outputs": [],
   "source": [
    "total_calls = np.sum(data['campaign'])"
   ]
  },
  {
   "cell_type": "code",
   "execution_count": 95,
   "metadata": {},
   "outputs": [
    {
     "data": {
      "text/plain": [
       "0.22468180872591106"
      ]
     },
     "execution_count": 95,
     "metadata": {},
     "output_type": "execute_result"
    }
   ],
   "source": [
    "extra_calls/total_calls"
   ]
  },
  {
   "cell_type": "code",
   "execution_count": 96,
   "metadata": {},
   "outputs": [
    {
     "data": {
      "text/plain": [
       "0.9928879310344828"
      ]
     },
     "execution_count": 96,
     "metadata": {},
     "output_type": "execute_result"
    }
   ],
   "source": [
    "num = data.loc[((data['duration']>100) & (data['y']==1)) | ((data['duration']<=100) & (data['y']==1) & (data['campaign']==1))].shape[0]\n",
    "den = data.loc[(data['y']==1)].shape[0]\n",
    "num/den"
   ]
  },
  {
   "cell_type": "markdown",
   "metadata": {},
   "source": [
    "## Hence a reduction of 22.47% in marketing cost can be achieved while maintaining 99.29% sales if the customer with duration less than 100 seconds is not called again"
   ]
  },
  {
   "cell_type": "code",
   "execution_count": 97,
   "metadata": {},
   "outputs": [
    {
     "data": {
      "text/plain": [
       "count    41188.00000\n",
       "mean        40.02406\n",
       "std         10.42125\n",
       "min         17.00000\n",
       "25%         32.00000\n",
       "50%         38.00000\n",
       "75%         47.00000\n",
       "max         98.00000\n",
       "Name: age, dtype: float64"
      ]
     },
     "execution_count": 97,
     "metadata": {},
     "output_type": "execute_result"
    }
   ],
   "source": [
    "data['age'].describe()"
   ]
  },
  {
   "cell_type": "code",
   "execution_count": 98,
   "metadata": {},
   "outputs": [
    {
     "data": {
      "text/plain": [
       "array([  0,  20,  40,  60,  80, 100])"
      ]
     },
     "execution_count": 98,
     "metadata": {},
     "output_type": "execute_result"
    }
   ],
   "source": [
    "agea = np.array([ix for ix in range(0,110,20)])\n",
    "agea"
   ]
  },
  {
   "cell_type": "code",
   "execution_count": 105,
   "metadata": {},
   "outputs": [
    {
     "name": "stdout",
     "output_type": "stream",
     "text": [
      "0.40714285714285714 \t 57\n",
      "0.1127475876079228 \t 2664\n",
      "0.09115687462144155 \t 1505\n",
      "0.44879898862199746 \t 355\n",
      "0.4957983193277311 \t 59\n"
     ]
    }
   ],
   "source": [
    "for ix in range((agea.shape[0])-1):\n",
    "    num = data.loc[(data['age']>agea[ix]) & (data['age']<=agea[ix+1]) & (data['y']==1)].shape[0]\n",
    "    den = data.loc[(data['age']>agea[ix]) & (data['age']<=agea[ix+1])].shape[0]\n",
    "    print(num/den,\"\\t\",num)"
   ]
  },
  {
   "cell_type": "markdown",
   "metadata": {},
   "source": [
    "# Therefore, we observe no pattern in age, hence we have no observations based on age"
   ]
  },
  {
   "cell_type": "code",
   "execution_count": 107,
   "metadata": {},
   "outputs": [
    {
     "data": {
      "text/plain": [
       "count    41188.000000\n",
       "mean         3.621291\n",
       "std          1.734447\n",
       "min          0.634000\n",
       "25%          1.344000\n",
       "50%          4.857000\n",
       "75%          4.961000\n",
       "max          5.045000\n",
       "Name: euribor3m, dtype: float64"
      ]
     },
     "execution_count": 107,
     "metadata": {},
     "output_type": "execute_result"
    }
   ],
   "source": [
    "data['euribor3m'].describe()"
   ]
  },
  {
   "cell_type": "code",
   "execution_count": 109,
   "metadata": {},
   "outputs": [
    {
     "name": "stdout",
     "output_type": "stream",
     "text": [
      "0.4569995650060132 \t 1786\n",
      "0.15797541214377325 \t 1515\n",
      "0.0 \t 0\n",
      "0.07092198581560284 \t 1\n",
      "0.04817996826555729 \t 1333\n",
      "0.5494505494505495 \t 5\n"
     ]
    }
   ],
   "source": [
    "interest =np.array([ix for ix in range(7)])\n",
    "for ix in range((interest.shape[0])-1):\n",
    "    num = data.loc[(data['euribor3m']>interest[ix]) & (data['euribor3m']<=interest[ix+1]) & (data['y']==1)].shape[0]\n",
    "    den = float(data.loc[(data['euribor3m']>interest[ix]) & (data['euribor3m']<=interest[ix+1])].shape[0]+0.1)\n",
    "    print(num/den,\"\\t\",num)"
   ]
  },
  {
   "cell_type": "markdown",
   "metadata": {},
   "source": [
    "# Therefore ,we again observe no pattern with euribor3m"
   ]
  },
  {
   "cell_type": "code",
   "execution_count": 110,
   "metadata": {},
   "outputs": [
    {
     "data": {
      "text/plain": [
       "count    41188.000000\n",
       "mean      5167.035911\n",
       "std         72.251528\n",
       "min       4963.600000\n",
       "25%       5099.100000\n",
       "50%       5191.000000\n",
       "75%       5228.100000\n",
       "max       5228.100000\n",
       "Name: nr.employed, dtype: float64"
      ]
     },
     "execution_count": 110,
     "metadata": {},
     "output_type": "execute_result"
    }
   ],
   "source": [
    "data['nr.employed'].describe()"
   ]
  },
  {
   "cell_type": "code",
   "execution_count": 111,
   "metadata": {},
   "outputs": [
    {
     "data": {
      "text/plain": [
       "<matplotlib.collections.PathCollection at 0x7f8356aa9f98>"
      ]
     },
     "execution_count": 111,
     "metadata": {},
     "output_type": "execute_result"
    },
    {
     "data": {
      "image/png": "[encoded data removed]",
      "text/plain": [
       "<Figure size 432x288 with 1 Axes>"
      ]
     },
     "metadata": {
      "needs_background": "light"
     },
     "output_type": "display_data"
    }
   ],
   "source": [
    "plt.scatter(data['nr.employed'],data['y'])"
   ]
  },
  {
   "cell_type": "code",
   "execution_count": 112,
   "metadata": {},
   "outputs": [
    {
     "name": "stdout",
     "output_type": "stream",
     "text": [
      "0.49996449115829844 \t 704\n",
      "0.4812212772700861 \t 911\n",
      "0.16534112639868198 \t 1686\n",
      "0.0 \t 0\n",
      "0.04128804741578722 \t 473\n",
      "0.053344503237013445 \t 866\n"
     ]
    }
   ],
   "source": [
    "emp =np.array([ix for ix in range(4950,5300,50)])\n",
    "for ix in range((emp.shape[0])-1):\n",
    "    num = data.loc[(data['nr.employed']>emp[ix]) & (data['nr.employed']<=emp[ix+1]) & (data['y']==1)].shape[0]\n",
    "    den = float(data.loc[(data['nr.employed']>emp[ix]) & (data['nr.employed']<=emp[ix+1])].shape[0]+0.1)\n",
    "    print(num/den,\"\\t\",num)"
   ]
  },
  {
   "cell_type": "markdown",
   "metadata": {},
   "source": [
    "# Therefore ,we again observe no pattern with nr.employed"
   ]
  },
  {
   "cell_type": "code",
   "execution_count": 113,
   "metadata": {},
   "outputs": [
    {
     "data": {
      "text/plain": [
       "count    41188.000000\n",
       "mean         3.747184\n",
       "std          2.136482\n",
       "min          0.000000\n",
       "25%          2.000000\n",
       "50%          3.000000\n",
       "75%          6.000000\n",
       "max          7.000000\n",
       "Name: education, dtype: float64"
      ]
     },
     "execution_count": 113,
     "metadata": {},
     "output_type": "execute_result"
    }
   ],
   "source": [
    "data['education'].describe()"
   ]
  },
  {
   "cell_type": "code",
   "execution_count": 118,
   "metadata": {},
   "outputs": [
    {
     "name": "stdout",
     "output_type": "stream",
     "text": [
      "0.1024904214559387 \t 428\n",
      "0.08202443280977312 \t 188\n",
      "0.0782464846980976 \t 473\n",
      "0.10835522858644246 \t 1031\n",
      "0.2222222222222222 \t 4\n",
      "0.11348464619492657 \t 595\n",
      "0.13724523339907954 \t 1670\n"
     ]
    }
   ],
   "source": [
    "edu =np.array([ix for ix in range(8)])\n",
    "for ix in range((emp.shape[0])):\n",
    "    num = data.loc[(data['education']==edu[ix])& (data['y']==1)].shape[0]\n",
    "    den = float(data.loc[(data['education']==edu[ix])].shape[0])\n",
    "    print(num/den,\"\\t\",num)"
   ]
  },
  {
   "cell_type": "code",
   "execution_count": 119,
   "metadata": {},
   "outputs": [
    {
     "data": {
      "text/plain": [
       "array(['illiterate'], dtype=object)"
      ]
     },
     "execution_count": 119,
     "metadata": {},
     "output_type": "execute_result"
    }
   ],
   "source": [
    "# We observe that for edu[3], the response rate is very low\n",
    "le[3].inverse_transform([4])"
   ]
  },
  {
   "cell_type": "code",
   "execution_count": 122,
   "metadata": {},
   "outputs": [
    {
     "data": {
      "text/plain": [
       "41"
      ]
     },
     "execution_count": 122,
     "metadata": {},
     "output_type": "execute_result"
    }
   ],
   "source": [
    "num = np.sum(data.loc[(data['education']==4)]['campaign'])"
   ]
  },
  {
   "cell_type": "code",
   "execution_count": 123,
   "metadata": {},
   "outputs": [
    {
     "data": {
      "text/plain": [
       "0.01579136486563156"
      ]
     },
     "execution_count": 123,
     "metadata": {},
     "output_type": "execute_result"
    }
   ],
   "source": [
    "total_calls = np.sum(data['campaign'])\n",
    "num/total_calls"
   ]
  },
  {
   "cell_type": "code",
   "execution_count": 126,
   "metadata": {},
   "outputs": [
    {
     "data": {
      "text/plain": [
       "0.9991379310344828"
      ]
     },
     "execution_count": 126,
     "metadata": {},
     "output_type": "execute_result"
    }
   ],
   "source": [
    "1-(4/data.loc[data['y']==1].shape[0])"
   ]
  },
  {
   "cell_type": "markdown",
   "metadata": {},
   "source": [
    "## Hence, no significant change can efficiently save marketing cost, or maintain the sales, but we conclude that for further campaigns \"Illitrates\" can be avoided, and according the data we save 1.5% marketing cost, maintaining the sales to 99.91%"
   ]
  },
  {
   "cell_type": "code",
   "execution_count": 128,
   "metadata": {},
   "outputs": [
    {
     "data": {
      "text/plain": [
       "count    41188.000000\n",
       "mean         2.567593\n",
       "std          2.770014\n",
       "min          1.000000\n",
       "25%          1.000000\n",
       "50%          2.000000\n",
       "75%          3.000000\n",
       "max         56.000000\n",
       "Name: campaign, dtype: float64"
      ]
     },
     "execution_count": 128,
     "metadata": {},
     "output_type": "execute_result"
    }
   ],
   "source": [
    "data['campaign'].describe()"
   ]
  },
  {
   "cell_type": "code",
   "execution_count": 129,
   "metadata": {},
   "outputs": [
    {
     "data": {
      "text/plain": [
       "<matplotlib.collections.PathCollection at 0x7f835bc725c0>"
      ]
     },
     "execution_count": 129,
     "metadata": {},
     "output_type": "execute_result"
    },
    {
     "data": {
      "image/png": "[encoded data removed]",
      "text/plain": [
       "<Figure size 432x288 with 1 Axes>"
      ]
     },
     "metadata": {
      "needs_background": "light"
     },
     "output_type": "display_data"
    }
   ],
   "source": [
    "plt.scatter(data['campaign'], data['y'])"
   ]
  },
  {
   "cell_type": "code",
   "execution_count": 132,
   "metadata": {},
   "outputs": [
    {
     "name": "stdout",
     "output_type": "stream",
     "text": [
      "0.130369967294143 \t 2300\n",
      "0.11456845252173584 \t 1211\n",
      "0.10746849899833368 \t 574\n",
      "0.09392327713024783 \t 249\n",
      "0.07504221124382465 \t 120\n",
      "0.07660096006536615 \t 75\n",
      "0.06040375139087585 \t 38\n",
      "0.0424893776555861 \t 17\n",
      "0.060049452490286113 \t 17\n",
      "0.05330964015992892 \t 12\n",
      "0.06775832862789384 \t 12\n",
      "0.023980815347721823 \t 3\n",
      "0.04343105320304018 \t 4\n",
      "0.014471780028943561 \t 1\n",
      "0.03913894324853229 \t 2\n",
      "0.0 \t 0\n",
      "0.06884681583476764 \t 4\n",
      "0.0 \t 0\n",
      "0.0 \t 0\n",
      "0.0 \t 0\n",
      "0.0 \t 0\n",
      "0.0 \t 0\n",
      "0.06211180124223602 \t 1\n",
      "0.0 \t 0\n",
      "0.0 \t 0\n",
      "0.0 \t 0\n",
      "0.0 \t 0\n",
      "0.0 \t 0\n",
      "0.0 \t 0\n",
      "0.0 \t 0\n",
      "0.0 \t 0\n",
      "0.0 \t 0\n",
      "0.0 \t 0\n",
      "0.0 \t 0\n",
      "0.0 \t 0\n",
      "0.0 \t 0\n",
      "0.0 \t 0\n",
      "0.0 \t 0\n",
      "0.0 \t 0\n",
      "0.0 \t 0\n",
      "0.0 \t 0\n",
      "0.0 \t 0\n",
      "0.0 \t 0\n",
      "0.0 \t 0\n",
      "0.0 \t 0\n",
      "0.0 \t 0\n",
      "0.0 \t 0\n",
      "0.0 \t 0\n",
      "0.0 \t 0\n",
      "0.0 \t 0\n",
      "0.0 \t 0\n",
      "0.0 \t 0\n",
      "0.0 \t 0\n",
      "0.0 \t 0\n",
      "0.0 \t 0\n",
      "0.0 \t 0\n"
     ]
    }
   ],
   "source": [
    "camp = np.array([ix for ix in range(1,57)])\n",
    "edu =np.array([ix for ix in range(8)])\n",
    "for ix in range((camp.shape[0])):\n",
    "    num = data.loc[(data['campaign']==camp[ix])& (data['y']==1)].shape[0]\n",
    "    den = float(data.loc[(data['campaign']==camp[ix])].shape[0]+0.1)\n",
    "    print(num/den,\"\\t\",num)"
   ]
  },
  {
   "cell_type": "code",
   "execution_count": 141,
   "metadata": {},
   "outputs": [
    {
     "data": {
      "text/plain": [
       "0.11384912154622993"
      ]
     },
     "execution_count": 141,
     "metadata": {},
     "output_type": "execute_result"
    }
   ],
   "source": [
    "extra_calls = np.sum(data.loc[(data['campaign']>6)]['campaign']-6)\n",
    "extra_calls\n",
    "total_calls = np.sum(data['campaign'])\n",
    "extra_calls/total_calls"
   ]
  },
  {
   "cell_type": "code",
   "execution_count": 143,
   "metadata": {},
   "outputs": [
    {
     "data": {
      "text/plain": [
       "0.9760775862068966"
      ]
     },
     "execution_count": 143,
     "metadata": {},
     "output_type": "execute_result"
    }
   ],
   "source": [
    "num = data.loc[(data['campaign']<=6) & (data['y']==1)].shape[0]\n",
    "den = data.loc[data['y']==1].shape[0]\n",
    "num/den"
   ]
  },
  {
   "cell_type": "markdown",
   "metadata": {},
   "source": [
    "## Hence a reduction of 11.38% in marketing cost can be achieved while maintaining 97.60% sales if the customer is not called more than 6 times"
   ]
  },
  {
   "cell_type": "markdown",
   "metadata": {},
   "source": [
    "## OVERALL OPTIMIZATION"
   ]
  },
  {
   "cell_type": "code",
   "execution_count": 146,
   "metadata": {},
   "outputs": [
    {
     "data": {
      "text/plain": [
       "28617"
      ]
     },
     "execution_count": 146,
     "metadata": {},
     "output_type": "execute_result"
    }
   ],
   "source": [
    "e_calls = np.sum(data.loc[(data['campaign']>6) & (data['duration']>100)]['campaign']-6)\n",
    "e_calls+=np.sum(data.loc[(data['duration']<=100) & (data['campaign']>1) ]['campaign'])-data.loc[(data['duration']<=100) & (data['campaign']>1) ]['campaign'].shape[0]\n",
    "e_calls"
   ]
  },
  {
   "cell_type": "code",
   "execution_count": 147,
   "metadata": {},
   "outputs": [
    {
     "data": {
      "text/plain": [
       "105754"
      ]
     },
     "execution_count": 147,
     "metadata": {},
     "output_type": "execute_result"
    }
   ],
   "source": [
    "t_calls = np.sum(data['campaign'])\n",
    "t_calls"
   ]
  },
  {
   "cell_type": "code",
   "execution_count": 148,
   "metadata": {},
   "outputs": [
    {
     "data": {
      "text/plain": [
       "0.2705996936286098"
      ]
     },
     "execution_count": 148,
     "metadata": {},
     "output_type": "execute_result"
    }
   ],
   "source": [
    "e_calls/t_calls"
   ]
  },
  {
   "cell_type": "code",
   "execution_count": 149,
   "metadata": {},
   "outputs": [
    {
     "data": {
      "text/plain": [
       "0.9691810344827586"
      ]
     },
     "execution_count": 149,
     "metadata": {},
     "output_type": "execute_result"
    }
   ],
   "source": [
    "num = data.loc[((data['duration']>100) & (data['campaign']<=6) & (data['y']==1)) | ((data['duration']<=100) & (data['y']==1) & (data['campaign']==1))].shape[0]\n",
    "den = data.loc[(data['y']==1)].shape[0]\n",
    "num/den"
   ]
  },
  {
   "cell_type": "markdown",
   "metadata": {},
   "source": [
    "## Hence a reduction of 27.06% in marketing cost can be achieved while maintaining 96.92% sales, by not calling more than 6 times to any customer, and not calling the customer again if the last call duration was not more than 100 seconds"
   ]
  },
  {
   "cell_type": "code",
   "execution_count": null,
   "metadata": {},
   "outputs": [],
   "source": []
  }
 ],
 "metadata": {
  "kernelspec": {
   "display_name": "Python 3",
   "language": "python",
   "name": "python3"
  },
  "language_info": {
   "codemirror_mode": {
    "name": "ipython",
    "version": 3
   },
   "file_extension": ".py",
   "mimetype": "text/x-python",
   "name": "python",
   "nbconvert_exporter": "python",
   "pygments_lexer": "ipython3",
   "version": "3.6.7"
  }
 },
 "nbformat": 4,
 "nbformat_minor": 2
}
